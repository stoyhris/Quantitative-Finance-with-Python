{
 "cells": [
  {
   "cell_type": "code",
   "execution_count": 40,
   "metadata": {},
   "outputs": [],
   "source": [
    "import numpy as np \n",
    "import scipy.optimize as sp\n",
    "import datetime as dt \n",
    "import pandas as pd\n",
    "from pandas_datareader import data as pdr \n",
    "import yfinance as yfin\n",
    "import plotly.graph_objects as go\n",
    "yfin.pdr_override()"
   ]
  },
  {
   "cell_type": "code",
   "execution_count": 2,
   "metadata": {},
   "outputs": [],
   "source": [
    "def getData(stocks, start, end):\n",
    "    stockData = pdr.get_data_yahoo(stocks,start=start,end=end)\n",
    "    stockData = stockData['Close']\n",
    "\n",
    "    returns = stockData.pct_change() \n",
    "    meanReturns = returns.mean() \n",
    "    covMatrix = returns.cov()\n",
    "\n",
    "    return meanReturns, covMatrix\n",
    "\n",
    "def portfolioPerformance(weights, meanReturns, covMatrix):\n",
    "    returns = np.sum(meanReturns*weights)*252 # daily returns * trading days = yearly returns \n",
    "    std = np.sqrt( np.dot(weights.T, np.dot(covMatrix, weights)) * 252)  # w'Sw, yearly standard deviation\n",
    "    return returns, std \n",
    "\n",
    "def negativeSR(weights, meanReturns, covMatrix, rf = 0.05):\n",
    "    pReturns, pStd = portfolioPerformance(weights, meanReturns, covMatrix)\n",
    "    return - (pReturns - rf) / pStd \n",
    "\n",
    "def maxSR(meanReturns, covMatrix, rf = 0.05, constraintSet=(0,1)):\n",
    "    \"\"\" Minimize Sharpe Ratio \"\"\"\n",
    "    numAssets = len(meanReturns)\n",
    "    args = (meanReturns, covMatrix, rf)\n",
    "    constraints = ({\"type\": \"eq\", \"fun\": lambda x: np.sum(x) - 1})\n",
    "    bound = constraintSet\n",
    "    bounds = tuple(bound for asset in range(numAssets))\n",
    "    result = sp.minimize(negativeSR, numAssets*[1./numAssets], args = args, \n",
    "                         method = \"SLSQP\", bounds=bounds,constraints=constraints)\n",
    "    return result "
   ]
  },
  {
   "cell_type": "code",
   "execution_count": 32,
   "metadata": {},
   "outputs": [
    {
     "name": "stderr",
     "output_type": "stream",
     "text": [
      "[*********************100%%**********************]  9 of 9 completed\n"
     ]
    },
    {
     "name": "stdout",
     "output_type": "stream",
     "text": [
      " message: Optimization terminated successfully\n",
      " success: True\n",
      "  status: 0\n",
      "     fun: -3.0235109958826145\n",
      "       x: [ 8.010e-16  3.151e-15  0.000e+00  2.574e-01  1.907e-02\n",
      "            4.536e-02  3.990e-01  1.802e-15  2.792e-01]\n",
      "     nit: 10\n",
      "     jac: [ 1.219e+00  2.773e+00 -1.313e-01 -1.967e-01 -1.970e-01\n",
      "           -1.969e-01 -1.967e-01  2.076e+00 -1.971e-01]\n",
      "    nfev: 103\n",
      "    njev: 10\n"
     ]
    }
   ],
   "source": [
    "stockList = ['NVDA','GOOG','META','SHOP', 'XOM','CRWD','ADBE','CM','BIDU']\n",
    "endDate = dt.datetime.now()\n",
    "startDate = endDate - dt.timedelta(days=365)\n",
    "\n",
    "meanReturns, covMatrix = getData(stockList, startDate, endDate)\n",
    "\n",
    "#weights = np.array([0.3, 0.3, 0.2, 0.2])\n",
    "#returns, std = portfolioPerformance(weights, meanReturns, covMatrix)\n",
    "\n",
    "result = maxSR(meanReturns, covMatrix)\n",
    "print(result)"
   ]
  },
  {
   "cell_type": "code",
   "execution_count": 33,
   "metadata": {},
   "outputs": [
    {
     "name": "stdout",
     "output_type": "stream",
     "text": [
      " message: Optimization terminated successfully\n",
      " success: True\n",
      "  status: 0\n",
      "     fun: 0.13101739410934934\n",
      "       x: [ 8.535e-02  1.464e-02  2.870e-01  2.340e-02  1.299e-01\n",
      "            3.181e-02  3.043e-02  2.960e-17  3.975e-01]\n",
      "     nit: 6\n",
      "     jac: [ 1.309e-01  1.310e-01  1.317e-01  1.311e-01  1.309e-01\n",
      "            1.310e-01  1.311e-01  2.433e-01  1.306e-01]\n",
      "    nfev: 60\n",
      "    njev: 6\n"
     ]
    }
   ],
   "source": [
    "def portfolioVariance(weights, meanReturns, covMatrix):\n",
    "    return portfolioPerformance(weights, meanReturns, covMatrix)[1]\n",
    "\n",
    "def minimizeVariance(meanReturns, covMatrix, constraintSet=(0,1)):\n",
    "    \"\"\" Minimize Portfolio Variance \"\"\"\n",
    "    numAssets = len(meanReturns)\n",
    "    args = (meanReturns, covMatrix)\n",
    "    constraints = ({\"type\": \"eq\", \"fun\": lambda x: np.sum(x) - 1})\n",
    "    bound = constraintSet\n",
    "    bounds = tuple(bound for asset in range(numAssets))\n",
    "    result = sp.minimize(portfolioVariance, numAssets*[1./numAssets], args = args, \n",
    "                         method = \"SLSQP\", bounds=bounds,constraints=constraints)\n",
    "    return result \n",
    "\n",
    "result = minimizeVariance(meanReturns, covMatrix)\n",
    "print(result)\n"
   ]
  },
  {
   "cell_type": "code",
   "execution_count": 34,
   "metadata": {},
   "outputs": [],
   "source": [
    "def portfolioReturn(weights, meanReturns, covMatrix):\n",
    "    return portfolioPerformance(weights, meanReturns, covMatrix)[0]\n",
    "def efficientOpt(meanReturns, covMatrix, returnTarget, constraintSet=(0,1)):\n",
    "    \"\"\" for each returnTarget, output weights such that min volatility \"\"\"\n",
    "    numAssets = len(meanReturns)\n",
    "    args = (meanReturns, covMatrix)\n",
    "    \n",
    "    constraints = ({\"type\": 'eq', 'fun': lambda x: portfolioReturn(x, meanReturns, covMatrix) - returnTarget },\n",
    "                    {\"type\": \"eq\", \"fun\": lambda x: np.sum(x) - 1})\n",
    "    bound = constraintSet\n",
    "    bounds = tuple(constraintSet for asset in range(numAssets))\n",
    "    effOpt = sp.minimize(portfolioVariance, numAssets*[1./numAssets], args=args,\n",
    "                         method = 'SLSQP', bounds = bounds, constraints = constraints)\n",
    "    return effOpt "
   ]
  },
  {
   "cell_type": "code",
   "execution_count": 51,
   "metadata": {},
   "outputs": [
    {
     "name": "stdout",
     "output_type": "stream",
     "text": [
      "(81.8, 25.4,         allocation\n",
      "Ticker            \n",
      "ADBE          0.00\n",
      "BIDU          0.00\n",
      "CM            0.00\n",
      "CRWD         25.74\n",
      "GOOG          1.91\n",
      "META          4.54\n",
      "NVDA         39.90\n",
      "SHOP          0.00\n",
      "XOM          27.92, 20.77, 13.1,         allocation\n",
      "Ticker            \n",
      "ADBE          8.53\n",
      "BIDU          1.46\n",
      "CM           28.70\n",
      "CRWD          2.34\n",
      "GOOG         12.99\n",
      "META          3.18\n",
      "NVDA          3.04\n",
      "SHOP          0.00\n",
      "XOM          39.75, [0.1310164358215588, 0.13129595026402793, 0.13229279142340106, 0.13413765951403034, 0.13679631785370552, 0.14022254703883982, 0.1444754375885247, 0.1496333058102292, 0.15560659172476626, 0.162305265210584, 0.16964283677957662, 0.17754102145523773, 0.18592797983957549, 0.19474092838495943, 0.2039234615376026, 0.21342919935771876, 0.2232163949129091, 0.2332497320258267, 0.24350324219308372, 0.25400618610479103], array([0.20772958, 0.23984846, 0.27196734, 0.30408622, 0.3362051 ,\n",
      "       0.36832397, 0.40044285, 0.43256173, 0.46468061, 0.49679949,\n",
      "       0.52891837, 0.56103724, 0.59315612, 0.625275  , 0.65739388,\n",
      "       0.68951276, 0.72163163, 0.75375051, 0.78586939, 0.81798827]))\n"
     ]
    }
   ],
   "source": [
    "def calculatedResults(meanReturns, covMatrix, rf = 0.05, constraintSet=(0,1)):\n",
    "    \"\"\"output max sr, min vol, efficient frontier\"\"\"\n",
    "    # MAX SR PORTFOLIO \n",
    "    maxSR_Portfolio = maxSR(meanReturns, covMatrix)\n",
    "    maxSR_returns, maxSR_std = portfolioPerformance(maxSR_Portfolio['x'], meanReturns, covMatrix)\n",
    "    \n",
    "    maxSR_allocation = pd.DataFrame(maxSR_Portfolio['x'], index=meanReturns.index, columns=['allocation'])\n",
    "    maxSR_allocation.allocation = [round(i*100,2) for i in maxSR_allocation.allocation]\n",
    "\n",
    "    # MIN VOL PORTFOLIO \n",
    "    minVol_Portfolio = minimizeVariance(meanReturns, covMatrix)\n",
    "    minVol_returns, minVol_std = portfolioPerformance(minVol_Portfolio['x'], meanReturns, covMatrix)\n",
    "    minVol_allocation = pd.DataFrame(minVol_Portfolio['x'], index=meanReturns.index, columns=['allocation'])\n",
    "    minVol_allocation.allocation = [round(i*100,2) for i in minVol_allocation.allocation]\n",
    "\n",
    "    # EFFICIENT FRONTIER \n",
    "    efficientList = []\n",
    "    targetReturns = np.linspace(minVol_returns, maxSR_returns, 20)\n",
    "    for target in targetReturns: \n",
    "        #print(target)\n",
    "        #print(efficientOpt(meanReturns, covMatrix, target))\n",
    "        #print(\"\\n\")\n",
    "        efficientList.append(efficientOpt(meanReturns, covMatrix, target)['fun']) # only returns objective function value\n",
    " \n",
    "    maxSR_returns, maxSR_std = round(maxSR_returns*100, 2), round(maxSR_std*100,2)\n",
    "    minVol_returns, minVol_std = round(minVol_returns*100, 2), round(minVol_std*100, 2)\n",
    "\n",
    "    return maxSR_returns, maxSR_std, maxSR_allocation, minVol_returns, minVol_std, minVol_allocation, efficientList, targetReturns \n",
    "\n",
    "print(calculatedResults(meanReturns, covMatrix))"
   ]
  },
  {
   "cell_type": "code",
   "execution_count": 29,
   "metadata": {},
   "outputs": [
    {
     "name": "stdout",
     "output_type": "stream",
     "text": [
      " message: Optimization terminated successfully\n",
      " success: True\n",
      "  status: 0\n",
      "     fun: 0.3505418139313842\n",
      "       x: [ 1.513e-01  1.749e-01  6.738e-01  0.000e+00]\n",
      "     nit: 4\n",
      "     jac: [ 1.400e-01  2.222e-01  4.311e-01  1.880e-01]\n",
      "    nfev: 21\n",
      "    njev: 4\n"
     ]
    }
   ],
   "source": [
    "print(efficientOpt(meanReturns, covMatrix, 1)) # three optimization problems: min var, max sr, establish efficient frontier"
   ]
  },
  {
   "cell_type": "code",
   "execution_count": 52,
   "metadata": {},
   "outputs": [
    {
     "data": {
      "application/vnd.plotly.v1+json": {
       "config": {
        "plotlyServerURL": "https://plot.ly"
       },
       "data": [
        {
         "marker": {
          "color": "red",
          "line": {
           "color": "black",
           "width": 3
          },
          "size": 14
         },
         "mode": "markers",
         "name": "Maximum Sharpe Ratio",
         "type": "scatter",
         "x": [
          25.4
         ],
         "y": [
          81.8
         ]
        },
        {
         "marker": {
          "color": "green",
          "line": {
           "color": "black",
           "width": 3
          },
          "size": 14
         },
         "mode": "markers",
         "name": "Minimum Volatility",
         "type": "scatter",
         "x": [
          13.1
         ],
         "y": [
          20.77
         ]
        },
        {
         "line": {
          "color": "black",
          "dash": "dashdot",
          "width": 4
         },
         "mode": "lines",
         "name": "Efficient Frontier",
         "type": "scatter",
         "x": [
          13.1,
          13.13,
          13.23,
          13.41,
          13.68,
          14.02,
          14.45,
          14.96,
          15.56,
          16.23,
          16.96,
          17.75,
          18.59,
          19.47,
          20.39,
          21.34,
          22.32,
          23.32,
          24.35,
          25.4
         ],
         "y": [
          20.77,
          23.98,
          27.2,
          30.41,
          33.62,
          36.83,
          40.04,
          43.26,
          46.47,
          49.68,
          52.89,
          56.1,
          59.32,
          62.53,
          65.74,
          68.95,
          72.16,
          75.38,
          78.59,
          81.8
         ]
        }
       ],
       "layout": {
        "height": 600,
        "legend": {
         "bgcolor": "#E2E2E2",
         "bordercolor": "black",
         "borderwidth": 2,
         "traceorder": "normal",
         "x": 0.75,
         "y": 0
        },
        "showlegend": true,
        "template": {
         "data": {
          "bar": [
           {
            "error_x": {
             "color": "#2a3f5f"
            },
            "error_y": {
             "color": "#2a3f5f"
            },
            "marker": {
             "line": {
              "color": "#E5ECF6",
              "width": 0.5
             },
             "pattern": {
              "fillmode": "overlay",
              "size": 10,
              "solidity": 0.2
             }
            },
            "type": "bar"
           }
          ],
          "barpolar": [
           {
            "marker": {
             "line": {
              "color": "#E5ECF6",
              "width": 0.5
             },
             "pattern": {
              "fillmode": "overlay",
              "size": 10,
              "solidity": 0.2
             }
            },
            "type": "barpolar"
           }
          ],
          "carpet": [
           {
            "aaxis": {
             "endlinecolor": "#2a3f5f",
             "gridcolor": "white",
             "linecolor": "white",
             "minorgridcolor": "white",
             "startlinecolor": "#2a3f5f"
            },
            "baxis": {
             "endlinecolor": "#2a3f5f",
             "gridcolor": "white",
             "linecolor": "white",
             "minorgridcolor": "white",
             "startlinecolor": "#2a3f5f"
            },
            "type": "carpet"
           }
          ],
          "choropleth": [
           {
            "colorbar": {
             "outlinewidth": 0,
             "ticks": ""
            },
            "type": "choropleth"
           }
          ],
          "contour": [
           {
            "colorbar": {
             "outlinewidth": 0,
             "ticks": ""
            },
            "colorscale": [
             [
              0,
              "#0d0887"
             ],
             [
              0.1111111111111111,
              "#46039f"
             ],
             [
              0.2222222222222222,
              "#7201a8"
             ],
             [
              0.3333333333333333,
              "#9c179e"
             ],
             [
              0.4444444444444444,
              "#bd3786"
             ],
             [
              0.5555555555555556,
              "#d8576b"
             ],
             [
              0.6666666666666666,
              "#ed7953"
             ],
             [
              0.7777777777777778,
              "#fb9f3a"
             ],
             [
              0.8888888888888888,
              "#fdca26"
             ],
             [
              1,
              "#f0f921"
             ]
            ],
            "type": "contour"
           }
          ],
          "contourcarpet": [
           {
            "colorbar": {
             "outlinewidth": 0,
             "ticks": ""
            },
            "type": "contourcarpet"
           }
          ],
          "heatmap": [
           {
            "colorbar": {
             "outlinewidth": 0,
             "ticks": ""
            },
            "colorscale": [
             [
              0,
              "#0d0887"
             ],
             [
              0.1111111111111111,
              "#46039f"
             ],
             [
              0.2222222222222222,
              "#7201a8"
             ],
             [
              0.3333333333333333,
              "#9c179e"
             ],
             [
              0.4444444444444444,
              "#bd3786"
             ],
             [
              0.5555555555555556,
              "#d8576b"
             ],
             [
              0.6666666666666666,
              "#ed7953"
             ],
             [
              0.7777777777777778,
              "#fb9f3a"
             ],
             [
              0.8888888888888888,
              "#fdca26"
             ],
             [
              1,
              "#f0f921"
             ]
            ],
            "type": "heatmap"
           }
          ],
          "heatmapgl": [
           {
            "colorbar": {
             "outlinewidth": 0,
             "ticks": ""
            },
            "colorscale": [
             [
              0,
              "#0d0887"
             ],
             [
              0.1111111111111111,
              "#46039f"
             ],
             [
              0.2222222222222222,
              "#7201a8"
             ],
             [
              0.3333333333333333,
              "#9c179e"
             ],
             [
              0.4444444444444444,
              "#bd3786"
             ],
             [
              0.5555555555555556,
              "#d8576b"
             ],
             [
              0.6666666666666666,
              "#ed7953"
             ],
             [
              0.7777777777777778,
              "#fb9f3a"
             ],
             [
              0.8888888888888888,
              "#fdca26"
             ],
             [
              1,
              "#f0f921"
             ]
            ],
            "type": "heatmapgl"
           }
          ],
          "histogram": [
           {
            "marker": {
             "pattern": {
              "fillmode": "overlay",
              "size": 10,
              "solidity": 0.2
             }
            },
            "type": "histogram"
           }
          ],
          "histogram2d": [
           {
            "colorbar": {
             "outlinewidth": 0,
             "ticks": ""
            },
            "colorscale": [
             [
              0,
              "#0d0887"
             ],
             [
              0.1111111111111111,
              "#46039f"
             ],
             [
              0.2222222222222222,
              "#7201a8"
             ],
             [
              0.3333333333333333,
              "#9c179e"
             ],
             [
              0.4444444444444444,
              "#bd3786"
             ],
             [
              0.5555555555555556,
              "#d8576b"
             ],
             [
              0.6666666666666666,
              "#ed7953"
             ],
             [
              0.7777777777777778,
              "#fb9f3a"
             ],
             [
              0.8888888888888888,
              "#fdca26"
             ],
             [
              1,
              "#f0f921"
             ]
            ],
            "type": "histogram2d"
           }
          ],
          "histogram2dcontour": [
           {
            "colorbar": {
             "outlinewidth": 0,
             "ticks": ""
            },
            "colorscale": [
             [
              0,
              "#0d0887"
             ],
             [
              0.1111111111111111,
              "#46039f"
             ],
             [
              0.2222222222222222,
              "#7201a8"
             ],
             [
              0.3333333333333333,
              "#9c179e"
             ],
             [
              0.4444444444444444,
              "#bd3786"
             ],
             [
              0.5555555555555556,
              "#d8576b"
             ],
             [
              0.6666666666666666,
              "#ed7953"
             ],
             [
              0.7777777777777778,
              "#fb9f3a"
             ],
             [
              0.8888888888888888,
              "#fdca26"
             ],
             [
              1,
              "#f0f921"
             ]
            ],
            "type": "histogram2dcontour"
           }
          ],
          "mesh3d": [
           {
            "colorbar": {
             "outlinewidth": 0,
             "ticks": ""
            },
            "type": "mesh3d"
           }
          ],
          "parcoords": [
           {
            "line": {
             "colorbar": {
              "outlinewidth": 0,
              "ticks": ""
             }
            },
            "type": "parcoords"
           }
          ],
          "pie": [
           {
            "automargin": true,
            "type": "pie"
           }
          ],
          "scatter": [
           {
            "fillpattern": {
             "fillmode": "overlay",
             "size": 10,
             "solidity": 0.2
            },
            "type": "scatter"
           }
          ],
          "scatter3d": [
           {
            "line": {
             "colorbar": {
              "outlinewidth": 0,
              "ticks": ""
             }
            },
            "marker": {
             "colorbar": {
              "outlinewidth": 0,
              "ticks": ""
             }
            },
            "type": "scatter3d"
           }
          ],
          "scattercarpet": [
           {
            "marker": {
             "colorbar": {
              "outlinewidth": 0,
              "ticks": ""
             }
            },
            "type": "scattercarpet"
           }
          ],
          "scattergeo": [
           {
            "marker": {
             "colorbar": {
              "outlinewidth": 0,
              "ticks": ""
             }
            },
            "type": "scattergeo"
           }
          ],
          "scattergl": [
           {
            "marker": {
             "colorbar": {
              "outlinewidth": 0,
              "ticks": ""
             }
            },
            "type": "scattergl"
           }
          ],
          "scattermapbox": [
           {
            "marker": {
             "colorbar": {
              "outlinewidth": 0,
              "ticks": ""
             }
            },
            "type": "scattermapbox"
           }
          ],
          "scatterpolar": [
           {
            "marker": {
             "colorbar": {
              "outlinewidth": 0,
              "ticks": ""
             }
            },
            "type": "scatterpolar"
           }
          ],
          "scatterpolargl": [
           {
            "marker": {
             "colorbar": {
              "outlinewidth": 0,
              "ticks": ""
             }
            },
            "type": "scatterpolargl"
           }
          ],
          "scatterternary": [
           {
            "marker": {
             "colorbar": {
              "outlinewidth": 0,
              "ticks": ""
             }
            },
            "type": "scatterternary"
           }
          ],
          "surface": [
           {
            "colorbar": {
             "outlinewidth": 0,
             "ticks": ""
            },
            "colorscale": [
             [
              0,
              "#0d0887"
             ],
             [
              0.1111111111111111,
              "#46039f"
             ],
             [
              0.2222222222222222,
              "#7201a8"
             ],
             [
              0.3333333333333333,
              "#9c179e"
             ],
             [
              0.4444444444444444,
              "#bd3786"
             ],
             [
              0.5555555555555556,
              "#d8576b"
             ],
             [
              0.6666666666666666,
              "#ed7953"
             ],
             [
              0.7777777777777778,
              "#fb9f3a"
             ],
             [
              0.8888888888888888,
              "#fdca26"
             ],
             [
              1,
              "#f0f921"
             ]
            ],
            "type": "surface"
           }
          ],
          "table": [
           {
            "cells": {
             "fill": {
              "color": "#EBF0F8"
             },
             "line": {
              "color": "white"
             }
            },
            "header": {
             "fill": {
              "color": "#C8D4E3"
             },
             "line": {
              "color": "white"
             }
            },
            "type": "table"
           }
          ]
         },
         "layout": {
          "annotationdefaults": {
           "arrowcolor": "#2a3f5f",
           "arrowhead": 0,
           "arrowwidth": 1
          },
          "autotypenumbers": "strict",
          "coloraxis": {
           "colorbar": {
            "outlinewidth": 0,
            "ticks": ""
           }
          },
          "colorscale": {
           "diverging": [
            [
             0,
             "#8e0152"
            ],
            [
             0.1,
             "#c51b7d"
            ],
            [
             0.2,
             "#de77ae"
            ],
            [
             0.3,
             "#f1b6da"
            ],
            [
             0.4,
             "#fde0ef"
            ],
            [
             0.5,
             "#f7f7f7"
            ],
            [
             0.6,
             "#e6f5d0"
            ],
            [
             0.7,
             "#b8e186"
            ],
            [
             0.8,
             "#7fbc41"
            ],
            [
             0.9,
             "#4d9221"
            ],
            [
             1,
             "#276419"
            ]
           ],
           "sequential": [
            [
             0,
             "#0d0887"
            ],
            [
             0.1111111111111111,
             "#46039f"
            ],
            [
             0.2222222222222222,
             "#7201a8"
            ],
            [
             0.3333333333333333,
             "#9c179e"
            ],
            [
             0.4444444444444444,
             "#bd3786"
            ],
            [
             0.5555555555555556,
             "#d8576b"
            ],
            [
             0.6666666666666666,
             "#ed7953"
            ],
            [
             0.7777777777777778,
             "#fb9f3a"
            ],
            [
             0.8888888888888888,
             "#fdca26"
            ],
            [
             1,
             "#f0f921"
            ]
           ],
           "sequentialminus": [
            [
             0,
             "#0d0887"
            ],
            [
             0.1111111111111111,
             "#46039f"
            ],
            [
             0.2222222222222222,
             "#7201a8"
            ],
            [
             0.3333333333333333,
             "#9c179e"
            ],
            [
             0.4444444444444444,
             "#bd3786"
            ],
            [
             0.5555555555555556,
             "#d8576b"
            ],
            [
             0.6666666666666666,
             "#ed7953"
            ],
            [
             0.7777777777777778,
             "#fb9f3a"
            ],
            [
             0.8888888888888888,
             "#fdca26"
            ],
            [
             1,
             "#f0f921"
            ]
           ]
          },
          "colorway": [
           "#636efa",
           "#EF553B",
           "#00cc96",
           "#ab63fa",
           "#FFA15A",
           "#19d3f3",
           "#FF6692",
           "#B6E880",
           "#FF97FF",
           "#FECB52"
          ],
          "font": {
           "color": "#2a3f5f"
          },
          "geo": {
           "bgcolor": "white",
           "lakecolor": "white",
           "landcolor": "#E5ECF6",
           "showlakes": true,
           "showland": true,
           "subunitcolor": "white"
          },
          "hoverlabel": {
           "align": "left"
          },
          "hovermode": "closest",
          "mapbox": {
           "style": "light"
          },
          "paper_bgcolor": "white",
          "plot_bgcolor": "#E5ECF6",
          "polar": {
           "angularaxis": {
            "gridcolor": "white",
            "linecolor": "white",
            "ticks": ""
           },
           "bgcolor": "#E5ECF6",
           "radialaxis": {
            "gridcolor": "white",
            "linecolor": "white",
            "ticks": ""
           }
          },
          "scene": {
           "xaxis": {
            "backgroundcolor": "#E5ECF6",
            "gridcolor": "white",
            "gridwidth": 2,
            "linecolor": "white",
            "showbackground": true,
            "ticks": "",
            "zerolinecolor": "white"
           },
           "yaxis": {
            "backgroundcolor": "#E5ECF6",
            "gridcolor": "white",
            "gridwidth": 2,
            "linecolor": "white",
            "showbackground": true,
            "ticks": "",
            "zerolinecolor": "white"
           },
           "zaxis": {
            "backgroundcolor": "#E5ECF6",
            "gridcolor": "white",
            "gridwidth": 2,
            "linecolor": "white",
            "showbackground": true,
            "ticks": "",
            "zerolinecolor": "white"
           }
          },
          "shapedefaults": {
           "line": {
            "color": "#2a3f5f"
           }
          },
          "ternary": {
           "aaxis": {
            "gridcolor": "white",
            "linecolor": "white",
            "ticks": ""
           },
           "baxis": {
            "gridcolor": "white",
            "linecolor": "white",
            "ticks": ""
           },
           "bgcolor": "#E5ECF6",
           "caxis": {
            "gridcolor": "white",
            "linecolor": "white",
            "ticks": ""
           }
          },
          "title": {
           "x": 0.05
          },
          "xaxis": {
           "automargin": true,
           "gridcolor": "white",
           "linecolor": "white",
           "ticks": "",
           "title": {
            "standoff": 15
           },
           "zerolinecolor": "white",
           "zerolinewidth": 2
          },
          "yaxis": {
           "automargin": true,
           "gridcolor": "white",
           "linecolor": "white",
           "ticks": "",
           "title": {
            "standoff": 15
           },
           "zerolinecolor": "white",
           "zerolinewidth": 2
          }
         }
        },
        "title": {
         "text": "Portfolio Optimization with Efficient Frontier"
        },
        "width": 800,
        "xaxis": {
         "title": {
          "text": "Annualized Volatility (%)"
         }
        },
        "yaxis": {
         "title": {
          "text": "Annualized Return (%)"
         }
        }
       }
      }
     },
     "metadata": {},
     "output_type": "display_data"
    }
   ],
   "source": [
    "def EF_graph(meanReturns, covMatrix, rf = 0.05, constraintSet = (0,1)):\n",
    "    \"\"\" Plot min vol, max sr efficient frontier \"\"\"\n",
    "    maxSR_returns, maxSR_std, maxSR_allocation, minVol_returns, minVol_std, minVol_allocation, efficientList, targetReturns = calculatedResults(meanReturns, covMatrix, rf, constraintSet)\n",
    "\n",
    "    # MAX SR \n",
    "    MaxSharpeRatio = go.Scatter(\n",
    "        name = 'Maximum Sharpe Ratio',\n",
    "        mode = 'markers',\n",
    "        x = [maxSR_std],\n",
    "        y = [maxSR_returns],\n",
    "        marker = dict(color='red',size=14,line=dict(width=3,color='black'))\n",
    "    )\n",
    "    # MIN VOL \n",
    "    MinVol = go.Scatter(\n",
    "        name = 'Minimum Volatility',\n",
    "        mode = 'markers',\n",
    "        x = [minVol_std],\n",
    "        y = [minVol_returns],\n",
    "        marker = dict(color='green',size=14,line=dict(width=3,color='black'))\n",
    "    )\n",
    "    # EFFICIENT FRONTIER \n",
    "    EF_curve = go.Scatter(\n",
    "        name = 'Efficient Frontier',\n",
    "        mode = 'lines',\n",
    "        x = [round(ef_std*100,2) for ef_std in efficientList],\n",
    "        y = [round(target*100,2) for target in targetReturns],\n",
    "        line = dict(color='black', width = 4, dash='dashdot')\n",
    "    )\n",
    "\n",
    "    data = [MaxSharpeRatio, MinVol, EF_curve]\n",
    "\n",
    "    layout = go.Layout(\n",
    "        title = 'Portfolio Optimization with Efficient Frontier',\n",
    "        yaxis = dict(title='Annualized Return (%)'),\n",
    "        xaxis = dict(title=\"Annualized Volatility (%)\"),\n",
    "        showlegend = True ,\n",
    "        legend = dict(\n",
    "            x=0.75, y=0, traceorder = 'normal',\n",
    "            bgcolor = '#E2E2E2',\n",
    "            bordercolor = 'black',\n",
    "            borderwidth = 2\n",
    "        ),\n",
    "        width = 800,\n",
    "        height = 600,\n",
    "    )\n",
    "\n",
    "    fig = go.Figure(data=data, layout=layout)\n",
    "\n",
    "    return fig.show() \n",
    "\n",
    "EF_graph(meanReturns, covMatrix)"
   ]
  }
 ],
 "metadata": {
  "kernelspec": {
   "display_name": "Python 3",
   "language": "python",
   "name": "python3"
  },
  "language_info": {
   "codemirror_mode": {
    "name": "ipython",
    "version": 3
   },
   "file_extension": ".py",
   "mimetype": "text/x-python",
   "name": "python",
   "nbconvert_exporter": "python",
   "pygments_lexer": "ipython3",
   "version": "3.11.9"
  },
  "orig_nbformat": 4
 },
 "nbformat": 4,
 "nbformat_minor": 2
}
